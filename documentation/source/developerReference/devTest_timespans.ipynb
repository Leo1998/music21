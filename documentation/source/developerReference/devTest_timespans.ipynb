{
 "cells": [
  {
   "cell_type": "markdown",
   "metadata": {},
   "source": [
    "# Timespan Demos\n",
    "\n",
    "Work in progress...  (This has also turned into a general sandbox of unstable things)"
   ]
  },
  {
   "cell_type": "code",
   "execution_count": 1,
   "metadata": {},
   "outputs": [],
   "source": [
    "from music21 import *"
   ]
  },
  {
   "cell_type": "code",
   "execution_count": 2,
   "metadata": {},
   "outputs": [
    {
     "name": "stdout",
     "output_type": "stream",
     "text": [
      "true!\n"
     ]
    },
    {
     "data": {
      "image/png": "[encoded data removed]",
      "text/plain": [
       "<IPython.core.display.Image object>"
      ]
     },
     "metadata": {
      "image/png": {
       "height": 1169,
       "width": 827
      }
     },
     "output_type": "display_data"
    }
   ],
   "source": [
    "note.Note().show()"
   ]
  },
  {
   "cell_type": "code",
   "execution_count": 2,
   "metadata": {},
   "outputs": [],
   "source": [
    "luca = corpus.parse('luca/gloria').measures(1, 8)"
   ]
  },
  {
   "cell_type": "code",
   "execution_count": 3,
   "metadata": {},
   "outputs": [],
   "source": [
    "tsCol = luca.asTimespans()"
   ]
  },
  {
   "cell_type": "code",
   "execution_count": 4,
   "metadata": {},
   "outputs": [
    {
     "data": {
      "text/plain": [
       "<TimespanTree {88} (0.0 to 24.0) <music21.stream.Score 0x10d792830>>"
      ]
     },
     "execution_count": 4,
     "metadata": {},
     "output_type": "execute_result"
    }
   ],
   "source": [
    "tsCol"
   ]
  },
  {
   "cell_type": "code",
   "execution_count": 5,
   "metadata": {},
   "outputs": [
    {
     "name": "stdout",
     "output_type": "stream",
     "text": [
      "<music21.tree.verticality.Verticality 0.0 {F3 F4 C5}>\n",
      "<music21.tree.verticality.Verticality 3.0 {F3 F4 D5}>\n",
      "<music21.tree.verticality.Verticality 3.5 {F3 C4 C5}>\n",
      "<music21.tree.verticality.Verticality 4.5 {F3 C4 A4}>\n",
      "<music21.tree.verticality.Verticality 5.0 {F3 C4 F4}>\n",
      "<music21.tree.verticality.Verticality 5.5 {F3 A3 F4}>\n",
      "<music21.tree.verticality.Verticality 6.0 {F3 F4}>\n",
      "<music21.tree.verticality.Verticality 6.5 {F3 F4 A4}>\n",
      "<music21.tree.verticality.Verticality 7.5 {F3 F4 C5}>\n",
      "<music21.tree.verticality.Verticality 8.5 {F3 F4 C5}>\n",
      "<music21.tree.verticality.Verticality 9.0 {C4 E4 G4}>\n",
      "<music21.tree.verticality.Verticality 10.5 {D4 F4 A4}>\n",
      "<music21.tree.verticality.Verticality 12.0 {C4 E4 G4}>\n",
      "<music21.tree.verticality.Verticality 15.0 {G3 G4 D5}>\n",
      "<music21.tree.verticality.Verticality 16.5 {A3 E4 C5}>\n",
      "<music21.tree.verticality.Verticality 17.5 {A3 E4 B4}>\n",
      "<music21.tree.verticality.Verticality 18.0 {D4 F4 A4}>\n",
      "<music21.tree.verticality.Verticality 18.5 {D4 F4 G4}>\n",
      "<music21.tree.verticality.Verticality 19.0 {D4 F4}>\n",
      "<music21.tree.verticality.Verticality 19.5 {C4 E4 G4}>\n",
      "<music21.tree.verticality.Verticality 20.0 {C4 F4 G4}>\n",
      "<music21.tree.verticality.Verticality 20.5 {C4 D4 G4}>\n",
      "<music21.tree.verticality.Verticality 21.0 {C4 E4}>\n",
      "<music21.tree.verticality.Verticality 21.5 {A3 E4}>\n",
      "<music21.tree.verticality.Verticality 22.0 {A3 C4 F4}>\n",
      "<music21.tree.verticality.Verticality 22.5 {B-3 D4 F4}>\n",
      "<music21.tree.verticality.Verticality 23.0 {G3 B-3 D4}>\n",
      "<music21.tree.verticality.Verticality 23.5 {B-3 D4 F4}>\n"
     ]
    }
   ],
   "source": [
    "for v in tsCol.iterateVerticalities():\n",
    "    print(v)"
   ]
  },
  {
   "cell_type": "code",
   "execution_count": 6,
   "metadata": {},
   "outputs": [],
   "source": [
    "v4 = list(tsCol.iterateVerticalities())[4]"
   ]
  },
  {
   "cell_type": "code",
   "execution_count": 7,
   "metadata": {},
   "outputs": [
    {
     "data": {
      "text/plain": [
       "<music21.tree.verticality.Verticality 5.0 {F3 C4 F4}>"
      ]
     },
     "execution_count": 7,
     "metadata": {},
     "output_type": "execute_result"
    }
   ],
   "source": [
    "v4"
   ]
  },
  {
   "cell_type": "code",
   "execution_count": 8,
   "metadata": {},
   "outputs": [
    {
     "data": {
      "text/plain": [
       "{<music21.pitch.Pitch F3>, <music21.pitch.Pitch C4>, <music21.pitch.Pitch F4>}"
      ]
     },
     "execution_count": 8,
     "metadata": {},
     "output_type": "execute_result"
    }
   ],
   "source": [
    "v4.pitchSet"
   ]
  },
  {
   "cell_type": "code",
   "execution_count": 9,
   "metadata": {},
   "outputs": [],
   "source": [
    "f = sorted(v4.pitchSet)[0]"
   ]
  },
  {
   "cell_type": "code",
   "execution_count": 10,
   "metadata": {},
   "outputs": [
    {
     "data": {
      "text/plain": [
       "<music21.pitch.Pitch F3>"
      ]
     },
     "execution_count": 10,
     "metadata": {},
     "output_type": "execute_result"
    }
   ],
   "source": [
    "f"
   ]
  },
  {
   "cell_type": "code",
   "execution_count": 11,
   "metadata": {},
   "outputs": [
    {
     "data": {
      "text/plain": [
       "(<PitchedTimespan (5.0 to 6.0) <music21.note.Note F>>,)"
      ]
     },
     "execution_count": 11,
     "metadata": {},
     "output_type": "execute_result"
    }
   ],
   "source": [
    "v4.startTimespans"
   ]
  },
  {
   "cell_type": "code",
   "execution_count": 12,
   "metadata": {},
   "outputs": [
    {
     "data": {
      "text/plain": [
       "(<PitchedTimespan (4.5 to 5.0) <music21.note.Note A>>,)"
      ]
     },
     "execution_count": 12,
     "metadata": {},
     "output_type": "execute_result"
    }
   ],
   "source": [
    "v4.stopTimespans"
   ]
  },
  {
   "cell_type": "code",
   "execution_count": 13,
   "metadata": {},
   "outputs": [
    {
     "data": {
      "text/plain": [
       "(<PitchedTimespan (3.0 to 6.0) <music21.note.Note F>>,\n",
       " <PitchedTimespan (4.5 to 5.5) <music21.note.Note C>>)"
      ]
     },
     "execution_count": 13,
     "metadata": {},
     "output_type": "execute_result"
    }
   ],
   "source": [
    "v4.overlapTimespans"
   ]
  },
  {
   "cell_type": "code",
   "execution_count": 14,
   "metadata": {},
   "outputs": [],
   "source": [
    "v35 = tsCol.getVerticalityAt(3.5)"
   ]
  },
  {
   "cell_type": "code",
   "execution_count": 15,
   "metadata": {},
   "outputs": [
    {
     "data": {
      "text/plain": [
       "<music21.tree.verticality.Verticality 3.5 {F3 C4 C5}>"
      ]
     },
     "execution_count": 15,
     "metadata": {},
     "output_type": "execute_result"
    }
   ],
   "source": [
    "v35"
   ]
  },
  {
   "cell_type": "code",
   "execution_count": 16,
   "metadata": {},
   "outputs": [
    {
     "data": {
      "text/plain": [
       "(<PitchedTimespan (3.5 to 4.5) <music21.note.Note C>>,\n",
       " <PitchedTimespan (3.5 to 4.5) <music21.note.Note C>>)"
      ]
     },
     "execution_count": 16,
     "metadata": {},
     "output_type": "execute_result"
    }
   ],
   "source": [
    "v35.startTimespans"
   ]
  },
  {
   "cell_type": "code",
   "execution_count": 17,
   "metadata": {},
   "outputs": [
    {
     "data": {
      "text/plain": [
       "(<PitchedTimespan (3.0 to 3.5) <music21.note.Note D>>,\n",
       " <PitchedTimespan (3.0 to 3.5) <music21.note.Note F>>)"
      ]
     },
     "execution_count": 17,
     "metadata": {},
     "output_type": "execute_result"
    }
   ],
   "source": [
    "v35.stopTimespans"
   ]
  },
  {
   "cell_type": "code",
   "execution_count": 18,
   "metadata": {},
   "outputs": [
    {
     "data": {
      "text/plain": [
       "(<PitchedTimespan (3.0 to 6.0) <music21.note.Note F>>,)"
      ]
     },
     "execution_count": 18,
     "metadata": {},
     "output_type": "execute_result"
    }
   ],
   "source": [
    "v35.overlapTimespans"
   ]
  },
  {
   "cell_type": "code",
   "execution_count": 19,
   "metadata": {},
   "outputs": [],
   "source": [
    "elTsC = v35.startTimespans[0]"
   ]
  },
  {
   "cell_type": "code",
   "execution_count": 20,
   "metadata": {},
   "outputs": [
    {
     "data": {
      "text/plain": [
       "(<PitchedTimespan (3.5 to 4.5) <music21.note.Note C>>, <music21.note.Note C>)"
      ]
     },
     "execution_count": 20,
     "metadata": {},
     "output_type": "execute_result"
    }
   ],
   "source": [
    "elTsC, elTsC.element"
   ]
  },
  {
   "cell_type": "markdown",
   "metadata": {},
   "source": [
    "Test previousVerticality with Rest"
   ]
  },
  {
   "cell_type": "code",
   "execution_count": 21,
   "metadata": {},
   "outputs": [],
   "source": [
    "v22 = tsCol.getVerticalityAt(22.0)"
   ]
  },
  {
   "cell_type": "code",
   "execution_count": 22,
   "metadata": {},
   "outputs": [
    {
     "data": {
      "text/plain": [
       "<music21.tree.verticality.Verticality 22.0 {A3 C4 F4}>"
      ]
     },
     "execution_count": 22,
     "metadata": {},
     "output_type": "execute_result"
    }
   ],
   "source": [
    "v22"
   ]
  },
  {
   "cell_type": "code",
   "execution_count": 23,
   "metadata": {},
   "outputs": [
    {
     "data": {
      "text/plain": [
       "(<PitchedTimespan (22.0 to 22.5) <music21.note.Note C>>,\n",
       " <PitchedTimespan (22.0 to 23.0) <music21.note.Note F>>)"
      ]
     },
     "execution_count": 23,
     "metadata": {},
     "output_type": "execute_result"
    }
   ],
   "source": [
    "v22.startTimespans"
   ]
  },
  {
   "cell_type": "code",
   "execution_count": 24,
   "metadata": {},
   "outputs": [
    {
     "data": {
      "text/plain": [
       "<PitchedTimespan (22.0 to 23.0) <music21.note.Note F>>"
      ]
     },
     "execution_count": 24,
     "metadata": {},
     "output_type": "execute_result"
    }
   ],
   "source": [
    "elTSfollowingRest = v22.startTimespans[1]\n",
    "elTSfollowingRest"
   ]
  },
  {
   "cell_type": "code",
   "execution_count": 25,
   "metadata": {},
   "outputs": [
    {
     "data": {
      "text/plain": [
       "(<PitchedTimespan (21.0 to 22.0) <music21.note.Note E>>,\n",
       " <ElementTimespan (21.5 to 22.0) <music21.note.Rest eighth>>)"
      ]
     },
     "execution_count": 25,
     "metadata": {},
     "output_type": "execute_result"
    }
   ],
   "source": [
    "v22.stopTimespans"
   ]
  },
  {
   "cell_type": "code",
   "execution_count": 26,
   "metadata": {},
   "outputs": [
    {
     "data": {
      "text/plain": [
       "<music21.stream.Part Cantus>"
      ]
     },
     "execution_count": 26,
     "metadata": {},
     "output_type": "execute_result"
    }
   ],
   "source": [
    "elTSfollowingRest.part"
   ]
  },
  {
   "cell_type": "code",
   "execution_count": 27,
   "metadata": {},
   "outputs": [
    {
     "data": {
      "image/png": "[encoded data removed]",
      "text/plain": [
       "<IPython.core.display.Image object>"
      ]
     },
     "metadata": {
      "image/png": {
       "height": 115,
       "width": 674
      }
     },
     "output_type": "display_data"
    }
   ],
   "source": [
    "score = tree.makeExampleScore()\n",
    "score.show()"
   ]
  },
  {
   "cell_type": "code",
   "execution_count": 28,
   "metadata": {},
   "outputs": [],
   "source": [
    "tsColSmall = score.asTimespans()"
   ]
  },
  {
   "cell_type": "code",
   "execution_count": 30,
   "metadata": {
    "tags": [
     "nbval-raises-exception",
     "nbval-ignore-output"
    ]
   },
   "outputs": [
    {
     "name": "stdout",
     "output_type": "stream",
     "text": [
      "<music21.tree.verticality.Verticality 0.0 {C3 C#3}>\n"
     ]
    },
    {
     "ename": "TimespanTreeException",
     "evalue": "PitchedTimespan <ElementTimespan (0.0 to 0.0) <music21.instrument.Instrument 'PartA: : '>>, must be an PitchedTimespan",
     "output_type": "error",
     "traceback": [
      "\u001b[0;31m---------------------------------------------------------------------------\u001b[0m",
      "\u001b[0;31mTimespanTreeException\u001b[0m                     Traceback (most recent call last)",
      "Input \u001b[0;32mIn [30]\u001b[0m, in \u001b[0;36m<cell line: 1>\u001b[0;34m()\u001b[0m\n\u001b[1;32m      2\u001b[0m \u001b[38;5;28;01mif\u001b[39;00m v:\n\u001b[1;32m      3\u001b[0m     \u001b[38;5;28mprint\u001b[39m(v)\n\u001b[0;32m----> 4\u001b[0m     \u001b[38;5;28mprint\u001b[39m(\u001b[43mv\u001b[49m\u001b[38;5;241;43m.\u001b[39;49m\u001b[43mgetAllVoiceLeadingQuartets\u001b[49m\u001b[43m(\u001b[49m\u001b[43m)\u001b[49m)\n",
      "File \u001b[0;32m~/git/music21base/music21/tree/verticality.py:988\u001b[0m, in \u001b[0;36mVerticality.getAllVoiceLeadingQuartets\u001b[0;34m(self, includeRests, includeOblique, includeNoMotion, returnObjects, partPairNumbers)\u001b[0m\n\u001b[1;32m    928\u001b[0m \u001b[38;5;124;03m'''\u001b[39;00m\n\u001b[1;32m    929\u001b[0m \u001b[38;5;124;03m>>> c = corpus.parse('luca/gloria').measures(1, 8)\u001b[39;00m\n\u001b[1;32m    930\u001b[0m \u001b[38;5;124;03m>>> tsCol = tree.fromStream.asTimespans(c, flatten=True,\u001b[39;00m\n\u001b[0;32m   (...)\u001b[0m\n\u001b[1;32m    985\u001b[0m \u001b[38;5;124;03mChanged in v8: all parameters are keyword only.\u001b[39;00m\n\u001b[1;32m    986\u001b[0m \u001b[38;5;124;03m'''\u001b[39;00m\n\u001b[1;32m    987\u001b[0m \u001b[38;5;28;01mfrom\u001b[39;00m \u001b[38;5;21;01mmusic21\u001b[39;00m\u001b[38;5;21;01m.\u001b[39;00m\u001b[38;5;21;01mvoiceLeading\u001b[39;00m \u001b[38;5;28;01mimport\u001b[39;00m VoiceLeadingQuartet\n\u001b[0;32m--> 988\u001b[0m pairedMotionList \u001b[38;5;241m=\u001b[39m \u001b[38;5;28;43mself\u001b[39;49m\u001b[38;5;241;43m.\u001b[39;49m\u001b[43mgetPairedMotion\u001b[49m\u001b[43m(\u001b[49m\u001b[43mincludeRests\u001b[49m\u001b[38;5;241;43m=\u001b[39;49m\u001b[43mincludeRests\u001b[49m\u001b[43m,\u001b[49m\n\u001b[1;32m    989\u001b[0m \u001b[43m                                        \u001b[49m\u001b[43mincludeOblique\u001b[49m\u001b[38;5;241;43m=\u001b[39;49m\u001b[43mincludeOblique\u001b[49m\u001b[43m)\u001b[49m\n\u001b[1;32m    990\u001b[0m allQuartets \u001b[38;5;241m=\u001b[39m itertools\u001b[38;5;241m.\u001b[39mcombinations(pairedMotionList, \u001b[38;5;241m2\u001b[39m)\n\u001b[1;32m    991\u001b[0m filteredList \u001b[38;5;241m=\u001b[39m []\n",
      "File \u001b[0;32m~/git/music21base/music21/tree/verticality.py:1089\u001b[0m, in \u001b[0;36mVerticality.getPairedMotion\u001b[0;34m(self, includeRests, includeOblique)\u001b[0m\n\u001b[1;32m   1086\u001b[0m allPairedMotions \u001b[38;5;241m=\u001b[39m []\n\u001b[1;32m   1088\u001b[0m \u001b[38;5;28;01mfor\u001b[39;00m startingTs \u001b[38;5;129;01min\u001b[39;00m startTss:\n\u001b[0;32m-> 1089\u001b[0m     previousTs \u001b[38;5;241m=\u001b[39m \u001b[38;5;28;43mself\u001b[39;49m\u001b[38;5;241;43m.\u001b[39;49m\u001b[43mtimespanTree\u001b[49m\u001b[38;5;241;43m.\u001b[39;49m\u001b[43mfindPreviousPitchedTimespanInSameStreamByClass\u001b[49m\u001b[43m(\u001b[49m\n\u001b[1;32m   1090\u001b[0m \u001b[43m        \u001b[49m\u001b[43mstartingTs\u001b[49m\u001b[43m)\u001b[49m\n\u001b[1;32m   1091\u001b[0m     \u001b[38;5;28;01mif\u001b[39;00m previousTs \u001b[38;5;129;01mis\u001b[39;00m \u001b[38;5;28;01mNone\u001b[39;00m:\n\u001b[1;32m   1092\u001b[0m         \u001b[38;5;28;01mcontinue\u001b[39;00m  \u001b[38;5;66;03m# first not in piece in this part...\u001b[39;00m\n",
      "File \u001b[0;32m~/git/music21base/music21/tree/timespanTree.py:317\u001b[0m, in \u001b[0;36mTimespanTree.findPreviousPitchedTimespanInSameStreamByClass\u001b[0;34m(self, pitchedTimespan, classList)\u001b[0m\n\u001b[1;32m    315\u001b[0m \u001b[38;5;28;01mif\u001b[39;00m \u001b[38;5;129;01mnot\u001b[39;00m \u001b[38;5;28misinstance\u001b[39m(pitchedTimespan, spans\u001b[38;5;241m.\u001b[39mPitchedTimespan):\n\u001b[1;32m    316\u001b[0m     message \u001b[38;5;241m=\u001b[39m \u001b[38;5;124mf\u001b[39m\u001b[38;5;124m'\u001b[39m\u001b[38;5;124mPitchedTimespan \u001b[39m\u001b[38;5;132;01m{\u001b[39;00mpitchedTimespan\u001b[38;5;132;01m!r}\u001b[39;00m\u001b[38;5;124m, must be an PitchedTimespan\u001b[39m\u001b[38;5;124m'\u001b[39m\n\u001b[0;32m--> 317\u001b[0m     \u001b[38;5;28;01mraise\u001b[39;00m TimespanTreeException(message)\n\u001b[1;32m    318\u001b[0m verticality \u001b[38;5;241m=\u001b[39m \u001b[38;5;28mself\u001b[39m\u001b[38;5;241m.\u001b[39mgetVerticalityAt(pitchedTimespan\u001b[38;5;241m.\u001b[39moffset)\n\u001b[1;32m    319\u001b[0m \u001b[38;5;28;01mwhile\u001b[39;00m verticality \u001b[38;5;129;01mis\u001b[39;00m \u001b[38;5;129;01mnot\u001b[39;00m \u001b[38;5;28;01mNone\u001b[39;00m:\n",
      "\u001b[0;31mTimespanTreeException\u001b[0m: PitchedTimespan <ElementTimespan (0.0 to 0.0) <music21.instrument.Instrument 'PartA: : '>>, must be an PitchedTimespan"
     ]
    }
   ],
   "source": [
    "for v in tsColSmall.iterateVerticalities():\n",
    "    if v:\n",
    "        print(v)\n",
    "        print(v.getAllVoiceLeadingQuartets())\n",
    "    "
   ]
  },
  {
   "cell_type": "code",
   "execution_count": 31,
   "metadata": {},
   "outputs": [],
   "source": [
    "lucaAll = corpus.parse('luca/gloria')\n",
    "tsCol = lucaAll.asTimespans()"
   ]
  },
  {
   "cell_type": "code",
   "execution_count": 31,
   "metadata": {
    "tags": [
     "nbval-raises-exception",
     "nbval-ignore-output"
    ]
   },
   "outputs": [
    {
     "ename": "TimespanTreeException",
     "evalue": "PitchedTimespan <ElementTimespan (0.0 to 0.0) <music21.text.TextBox '1'>>, must be an PitchedTimespan",
     "output_type": "error",
     "traceback": [
      "\u001b[0;31m---------------------------------------------------------------------------\u001b[0m",
      "\u001b[0;31mTimespanTreeException\u001b[0m                     Traceback (most recent call last)",
      "\u001b[0;32m/var/folders/mk/qf43gd_s5f30rzzbt7l7l01h0000gn/T/ipykernel_7366/2650510182.py\u001b[0m in \u001b[0;36m<module>\u001b[0;34m\u001b[0m\n\u001b[1;32m      1\u001b[0m \u001b[0;32mfor\u001b[0m \u001b[0mv\u001b[0m \u001b[0;32min\u001b[0m \u001b[0mtsCol\u001b[0m\u001b[0;34m.\u001b[0m\u001b[0miterateVerticalities\u001b[0m\u001b[0;34m(\u001b[0m\u001b[0;34m)\u001b[0m\u001b[0;34m:\u001b[0m\u001b[0;34m\u001b[0m\u001b[0;34m\u001b[0m\u001b[0m\n\u001b[0;32m----> 2\u001b[0;31m     \u001b[0mvlqs\u001b[0m \u001b[0;34m=\u001b[0m \u001b[0mv\u001b[0m\u001b[0;34m.\u001b[0m\u001b[0mgetAllVoiceLeadingQuartets\u001b[0m\u001b[0;34m(\u001b[0m\u001b[0;34m)\u001b[0m\u001b[0;34m\u001b[0m\u001b[0;34m\u001b[0m\u001b[0m\n\u001b[0m",
      "\u001b[0;32m~/git/music21base/music21/tree/verticality.py\u001b[0m in \u001b[0;36mgetAllVoiceLeadingQuartets\u001b[0;34m(self, includeRests, includeOblique, includeNoMotion, returnObjects, partPairNumbers)\u001b[0m\n\u001b[1;32m    975\u001b[0m         '''\n\u001b[1;32m    976\u001b[0m         \u001b[0;32mfrom\u001b[0m \u001b[0mmusic21\u001b[0m\u001b[0;34m.\u001b[0m\u001b[0mvoiceLeading\u001b[0m \u001b[0;32mimport\u001b[0m \u001b[0mVoiceLeadingQuartet\u001b[0m\u001b[0;34m\u001b[0m\u001b[0;34m\u001b[0m\u001b[0m\n\u001b[0;32m--> 977\u001b[0;31m         pairedMotionList = self.getPairedMotion(includeRests=includeRests,\n\u001b[0m\u001b[1;32m    978\u001b[0m                                                 includeOblique=includeOblique)\n\u001b[1;32m    979\u001b[0m         \u001b[0mallQuartets\u001b[0m \u001b[0;34m=\u001b[0m \u001b[0mitertools\u001b[0m\u001b[0;34m.\u001b[0m\u001b[0mcombinations\u001b[0m\u001b[0;34m(\u001b[0m\u001b[0mpairedMotionList\u001b[0m\u001b[0;34m,\u001b[0m \u001b[0;36m2\u001b[0m\u001b[0;34m)\u001b[0m\u001b[0;34m\u001b[0m\u001b[0;34m\u001b[0m\u001b[0m\n",
      "\u001b[0;32m~/git/music21base/music21/tree/verticality.py\u001b[0m in \u001b[0;36mgetPairedMotion\u001b[0;34m(self, includeRests, includeOblique)\u001b[0m\n\u001b[1;32m   1076\u001b[0m \u001b[0;34m\u001b[0m\u001b[0m\n\u001b[1;32m   1077\u001b[0m         \u001b[0;32mfor\u001b[0m \u001b[0mstartingTs\u001b[0m \u001b[0;32min\u001b[0m \u001b[0mstartTss\u001b[0m\u001b[0;34m:\u001b[0m\u001b[0;34m\u001b[0m\u001b[0;34m\u001b[0m\u001b[0m\n\u001b[0;32m-> 1078\u001b[0;31m             previousTs = self.timespanTree.findPreviousPitchedTimespanInSameStreamByClass(\n\u001b[0m\u001b[1;32m   1079\u001b[0m                 startingTs)\n\u001b[1;32m   1080\u001b[0m             \u001b[0;32mif\u001b[0m \u001b[0mpreviousTs\u001b[0m \u001b[0;32mis\u001b[0m \u001b[0;32mNone\u001b[0m\u001b[0;34m:\u001b[0m\u001b[0;34m\u001b[0m\u001b[0;34m\u001b[0m\u001b[0m\n",
      "\u001b[0;32m~/git/music21base/music21/tree/timespanTree.py\u001b[0m in \u001b[0;36mfindPreviousPitchedTimespanInSameStreamByClass\u001b[0;34m(self, pitchedTimespan, classList)\u001b[0m\n\u001b[1;32m    302\u001b[0m         \u001b[0;32mif\u001b[0m \u001b[0;32mnot\u001b[0m \u001b[0misinstance\u001b[0m\u001b[0;34m(\u001b[0m\u001b[0mpitchedTimespan\u001b[0m\u001b[0;34m,\u001b[0m \u001b[0mspans\u001b[0m\u001b[0;34m.\u001b[0m\u001b[0mPitchedTimespan\u001b[0m\u001b[0;34m)\u001b[0m\u001b[0;34m:\u001b[0m\u001b[0;34m\u001b[0m\u001b[0;34m\u001b[0m\u001b[0m\n\u001b[1;32m    303\u001b[0m             \u001b[0mmessage\u001b[0m \u001b[0;34m=\u001b[0m \u001b[0;34mf'PitchedTimespan {pitchedTimespan!r}, must be an PitchedTimespan'\u001b[0m\u001b[0;34m\u001b[0m\u001b[0;34m\u001b[0m\u001b[0m\n\u001b[0;32m--> 304\u001b[0;31m             \u001b[0;32mraise\u001b[0m \u001b[0mTimespanTreeException\u001b[0m\u001b[0;34m(\u001b[0m\u001b[0mmessage\u001b[0m\u001b[0;34m)\u001b[0m\u001b[0;34m\u001b[0m\u001b[0;34m\u001b[0m\u001b[0m\n\u001b[0m\u001b[1;32m    305\u001b[0m         \u001b[0mverticality\u001b[0m \u001b[0;34m=\u001b[0m \u001b[0mself\u001b[0m\u001b[0;34m.\u001b[0m\u001b[0mgetVerticalityAt\u001b[0m\u001b[0;34m(\u001b[0m\u001b[0mpitchedTimespan\u001b[0m\u001b[0;34m.\u001b[0m\u001b[0moffset\u001b[0m\u001b[0;34m)\u001b[0m\u001b[0;34m\u001b[0m\u001b[0;34m\u001b[0m\u001b[0m\n\u001b[1;32m    306\u001b[0m         \u001b[0;32mwhile\u001b[0m \u001b[0mverticality\u001b[0m \u001b[0;32mis\u001b[0m \u001b[0;32mnot\u001b[0m \u001b[0;32mNone\u001b[0m\u001b[0;34m:\u001b[0m\u001b[0;34m\u001b[0m\u001b[0;34m\u001b[0m\u001b[0m\n",
      "\u001b[0;31mTimespanTreeException\u001b[0m: PitchedTimespan <ElementTimespan (0.0 to 0.0) <music21.text.TextBox '1'>>, must be an PitchedTimespan"
     ]
    }
   ],
   "source": [
    "for v in tsCol.iterateVerticalities():\n",
    "    vlqs = v.getAllVoiceLeadingQuartets()"
   ]
  },
  {
   "cell_type": "code",
   "execution_count": 32,
   "metadata": {},
   "outputs": [],
   "source": [
    "bach = corpus.parse('bwv66.6')"
   ]
  },
  {
   "cell_type": "code",
   "execution_count": 33,
   "metadata": {},
   "outputs": [],
   "source": [
    "meterCol = lucaAll.parts[0].asTimespans(classList=(meter.TimeSignature,))"
   ]
  },
  {
   "cell_type": "code",
   "execution_count": 34,
   "metadata": {},
   "outputs": [
    {
     "data": {
      "text/plain": [
       "<TimespanTree {4} (0.0 to 275.0) <music21.stream.Part Cantus>>"
      ]
     },
     "execution_count": 34,
     "metadata": {},
     "output_type": "execute_result"
    }
   ],
   "source": [
    "meterCol"
   ]
  },
  {
   "cell_type": "code",
   "execution_count": 35,
   "metadata": {},
   "outputs": [
    {
     "name": "stdout",
     "output_type": "stream",
     "text": [
      "<TimespanTree {4} (0.0 to 275.0) <music21.stream.Part Cantus>>\n",
      "\t<ElementTimespan (0.0 to 0.0) <music21.meter.TimeSignature 6/8>>\n",
      "\t<ElementTimespan (81.0 to 81.0) <music21.meter.TimeSignature 2/4>>\n",
      "\t<ElementTimespan (185.0 to 185.0) <music21.meter.TimeSignature 6/8>>\n",
      "\t<ElementTimespan (275.0 to 275.0) <music21.meter.TimeSignature 3/4>>\n"
     ]
    }
   ],
   "source": [
    "print(meterCol)"
   ]
  },
  {
   "cell_type": "code",
   "execution_count": 2,
   "metadata": {},
   "outputs": [
    {
     "data": {
      "image/png": "[encoded data removed]",
      "text/plain": [
       "<IPython.core.display.Image object>"
      ]
     },
     "metadata": {
      "image/png": {
       "height": 1169,
       "width": 827
      }
     },
     "output_type": "display_data"
    }
   ],
   "source": [
    "c = corpus.parse('7thRegimentReel')\n",
    "c.measures(0, 3).show()"
   ]
  },
  {
   "cell_type": "code",
   "execution_count": 3,
   "metadata": {},
   "outputs": [
    {
     "name": "stdout",
     "output_type": "stream",
     "text": [
      "⠀⠀⠀⠀⠀⠀⠀⠀⠀⠀⠀⠀⠀⠀⠀⠩⠩⠩⠼⠃⠲⠀⠀⠀⠀⠀⠀⠀⠀⠀⠀⠀⠀⠀⠀\n",
      "⠼⠚⠀⠣⠃⠐⠊⠮⠉⠽⠯⠐⠊⠙⠋⠀⠮⠨⠽⠯⠮⠙⠾⠉⠮⠀⠿⠊⠋⠊⠨⠽⠋⠊⠛\n",
      "⠀⠀⠨⠯⠙⠚⠊⠿⠊⠋⠙⠀⠣⠃⠊⠐⠮⠉⠽⠯⠐⠊⠙⠋⠀⠮⠨⠽⠯⠮⠙⠾⠉⠮\n",
      "⠀⠀⠨⠿⠊⠋⠊⠨⠽⠋⠛⠋\n"
     ]
    }
   ],
   "source": [
    "c.measures(0, 6).show('braille')"
   ]
  },
  {
   "cell_type": "code",
   "execution_count": 4,
   "metadata": {},
   "outputs": [
    {
     "data": {
      "text/html": [
       "\n",
       "                <div id=\"midiPlayerDiv3060\"></div>\n",
       "                <link rel=\"stylesheet\" href=\"https://cuthbertLab.github.io/music21j/css/m21.css\">\n",
       "                \n",
       "                <script>\n",
       "                require.config({\n",
       "                    paths: {\n",
       "                        'music21': 'https://cuthbertLab.github.io/music21j/releases/music21.debug',\n",
       "                    }\n",
       "                });\n",
       "                require(['music21'], function(music21) {\n",
       "                    mp = new music21.miditools.MidiPlayer();\n",
       "                    mp.addPlayer(\"#midiPlayerDiv3060\");\n",
       "                    mp.base64Load(\"data:audio/midi;base64,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\");\n",
       "                });\n",
       "                </script>"
      ],
      "text/plain": [
       "<IPython.core.display.HTML object>"
      ]
     },
     "metadata": {},
     "output_type": "display_data"
    }
   ],
   "source": [
    "c.show('midi')"
   ]
  },
  {
   "cell_type": "code",
   "execution_count": null,
   "metadata": {},
   "outputs": [],
   "source": []
  }
 ],
 "metadata": {
  "anaconda-cloud": {},
  "celltoolbar": "Tags",
  "kernelspec": {
   "display_name": "Python 3 (ipykernel)",
   "language": "python",
   "name": "python3"
  },
  "language_info": {
   "codemirror_mode": {
    "name": "ipython",
    "version": 3
   },
   "file_extension": ".py",
   "mimetype": "text/x-python",
   "name": "python",
   "nbconvert_exporter": "python",
   "pygments_lexer": "ipython3",
   "version": "3.11.2"
  }
 },
 "nbformat": 4,
 "nbformat_minor": 4
}

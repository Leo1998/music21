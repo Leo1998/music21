{
 "cells": [
  {
   "cell_type": "code",
   "execution_count": 1,
   "id": "1d93e3e7",
   "metadata": {},
   "outputs": [],
   "source": [
    "import ipywidgets"
   ]
  },
  {
   "cell_type": "code",
   "execution_count": 2,
   "id": "62d0119b",
   "metadata": {},
   "outputs": [],
   "source": [
    "import ipywidgets as widgets\n",
    "from ipywidgets import HBox, VBox\n",
    "import numpy as np\n",
    "import matplotlib.pyplot as plt\n",
    "from IPython.display import display\n",
    "%matplotlib inline"
   ]
  },
  {
   "cell_type": "code",
   "execution_count": 3,
   "id": "9f8c6924",
   "metadata": {},
   "outputs": [
    {
     "data": {
      "application/vnd.jupyter.widget-view+json": {
       "model_id": "cbd6826489134266849b791336287317",
       "version_major": 2,
       "version_minor": 0
      },
      "text/plain": [
       "interactive(children=(IntSlider(value=5, description='x', max=15, min=-5), Output()), _dom_classes=('widget-in…"
      ]
     },
     "metadata": {},
     "output_type": "display_data"
    }
   ],
   "source": [
    "@widgets.interact\n",
    "def f(x=5):\n",
    "    print(x)"
   ]
  },
  {
   "cell_type": "code",
   "execution_count": 4,
   "id": "ab4556b8",
   "metadata": {},
   "outputs": [
    {
     "data": {
      "application/vnd.jupyter.widget-view+json": {
       "model_id": "9e6ad1f6135a4015b8a407222e7af91a",
       "version_major": 2,
       "version_minor": 0
      },
      "text/plain": [
       "interactive(children=(IntSlider(value=5, description='x', max=5), Output()), _dom_classes=('widget-interact',)…"
      ]
     },
     "metadata": {},
     "output_type": "display_data"
    }
   ],
   "source": [
    "@widgets.interact(x=(0, 5))\n",
    "def f(x=5):\n",
    "    print(x)"
   ]
  },
  {
   "cell_type": "code",
   "execution_count": 5,
   "id": "703c72dc",
   "metadata": {},
   "outputs": [
    {
     "data": {
      "application/vnd.jupyter.widget-view+json": {
       "model_id": "90a0b8cbfd7d4136aad7bd0605616cac",
       "version_major": 2,
       "version_minor": 0
      },
      "text/plain": [
       "interactive(children=(FloatSlider(value=1.0, description='freq', max=3.0, min=-1.0), Dropdown(description='col…"
      ]
     },
     "metadata": {},
     "output_type": "display_data"
    }
   ],
   "source": [
    "@widgets.interact_manual(\n",
    "    color=['blue', 'red', 'green'], lw=(1., 10.))\n",
    "def plot(freq=1., color='blue', lw=2, grid=True):\n",
    "    t = np.linspace(-1., +1., 1000)\n",
    "    fig, ax = plt.subplots(1, 1, figsize=(8, 6))\n",
    "    ax.plot(t, np.sin(2 * np.pi * freq * t),\n",
    "            lw=lw, color=color)\n",
    "    ax.grid(grid)"
   ]
  },
  {
   "cell_type": "code",
   "execution_count": 6,
   "id": "cb9038af",
   "metadata": {},
   "outputs": [
    {
     "data": {
      "application/vnd.jupyter.widget-view+json": {
       "model_id": "2a3e6f4137bb44318a9bea3d0403cc58",
       "version_major": 2,
       "version_minor": 0
      },
      "text/plain": [
       "FloatSlider(value=2.0, description='Frequency:', max=10.0, min=1.0, readout_format='.1f')"
      ]
     },
     "metadata": {},
     "output_type": "display_data"
    }
   ],
   "source": [
    "freq_slider = widgets.FloatSlider(\n",
    "    value=2.,\n",
    "    min=1.,\n",
    "    max=10.0,\n",
    "    step=0.1,\n",
    "    description='Frequency:',\n",
    "    readout_format='.1f',\n",
    ")\n",
    "freq_slider"
   ]
  },
  {
   "cell_type": "code",
   "execution_count": 7,
   "id": "32204e1f",
   "metadata": {},
   "outputs": [],
   "source": [
    "import ipywidgets as widgets\n",
    "from traitlets import Unicode, Int, validate"
   ]
  },
  {
   "cell_type": "code",
   "execution_count": 8,
   "id": "b94469d7",
   "metadata": {},
   "outputs": [],
   "source": [
    "class CounterWidget(widgets.DOMWidget):\n",
    "    _view_name = Unicode('CounterView').tag(sync=True)\n",
    "    _view_module = Unicode('counter').tag(sync=True)\n",
    "    value = Int(0).tag(sync=True)"
   ]
  },
  {
   "cell_type": "code",
   "execution_count": 9,
   "id": "110723cf",
   "metadata": {},
   "outputs": [
    {
     "data": {
      "application/javascript": [
       "// We make sure the `counter` module is defined\n",
       "// only once.\n",
       "require.undef('counter');\n",
       "\n",
       "// We define the `counter` module depending on the\n",
       "// Jupyter widgets framework.\n",
       "define('counter', [\"@jupyter-widgets/base\"],\n",
       "       function(widgets) {\n",
       "\n",
       "    // We create the CounterView frontend class,\n",
       "    // deriving from DOMWidgetView.\n",
       "    var CounterView = widgets.DOMWidgetView.extend({\n",
       "\n",
       "        // This method creates the HTML widget.\n",
       "        render: function() {\n",
       "            // The value_changed() method should be\n",
       "            // called when the model's value changes\n",
       "            // on the kernel side.\n",
       "            this.value_changed();\n",
       "            this.model.on('change:value',\n",
       "                          this.value_changed, this);\n",
       "\n",
       "            var model = this.model;\n",
       "            var that = this;\n",
       "\n",
       "            // We create the plus and minus buttons.\n",
       "            this.bm = $('<button/>')\n",
       "            .text('-')\n",
       "            .click(function() {\n",
       "                // When the button is clicked,\n",
       "                // the model's value is updated.\n",
       "                var x = model.get('value');\n",
       "                model.set('value', x - 1);\n",
       "                that.touch();\n",
       "            });\n",
       "\n",
       "            this.bp = $('<button/>')\n",
       "            .text('+')\n",
       "            .click(function() {\n",
       "                var x = model.get('value');\n",
       "                model.set('value', x + 1);\n",
       "                that.touch();\n",
       "            });\n",
       "\n",
       "            // This element displays the current\n",
       "            // value of the counter.\n",
       "            this.span = $('<span />')\n",
       "            .text('0')\n",
       "            .css({marginLeft: '10px',\n",
       "                  marginRight: '10px'});\n",
       "\n",
       "            // this.el represents the widget's DOM\n",
       "            // element. We add the minus button,\n",
       "            // the span element, and the plus button.\n",
       "            $(this.el)\n",
       "            .append(this.bm)\n",
       "            .append(this.span)\n",
       "            .append(this.bp);\n",
       "        },\n",
       "\n",
       "        value_changed: function() {\n",
       "            // Update the displayed number when the\n",
       "            // counter's value changes.\n",
       "            var x = this.model.get('value');\n",
       "            $($(this.el).children()[1]).text(x);\n",
       "        },\n",
       "    });\n",
       "\n",
       "    return {\n",
       "        CounterView : CounterView\n",
       "    };\n",
       "});\n"
      ],
      "text/plain": [
       "<IPython.core.display.Javascript object>"
      ]
     },
     "metadata": {},
     "output_type": "display_data"
    }
   ],
   "source": [
    "%%javascript\n",
    "// We make sure the `counter` module is defined\n",
    "// only once.\n",
    "require.undef('counter');\n",
    "\n",
    "// We define the `counter` module depending on the\n",
    "// Jupyter widgets framework.\n",
    "define('counter', [\"@jupyter-widgets/base\"],\n",
    "       function(widgets) {\n",
    "\n",
    "    // We create the CounterView frontend class,\n",
    "    // deriving from DOMWidgetView.\n",
    "    var CounterView = widgets.DOMWidgetView.extend({\n",
    "\n",
    "        // This method creates the HTML widget.\n",
    "        render: function() {\n",
    "            // The value_changed() method should be\n",
    "            // called when the model's value changes\n",
    "            // on the kernel side.\n",
    "            this.value_changed();\n",
    "            this.model.on('change:value',\n",
    "                          this.value_changed, this);\n",
    "\n",
    "            var model = this.model;\n",
    "            var that = this;\n",
    "\n",
    "            // We create the plus and minus buttons.\n",
    "            this.bm = $('<button/>')\n",
    "            .text('-')\n",
    "            .click(function() {\n",
    "                // When the button is clicked,\n",
    "                // the model's value is updated.\n",
    "                var x = model.get('value');\n",
    "                model.set('value', x - 1);\n",
    "                that.touch();\n",
    "            });\n",
    "\n",
    "            this.bp = $('<button/>')\n",
    "            .text('+')\n",
    "            .click(function() {\n",
    "                var x = model.get('value');\n",
    "                model.set('value', x + 1);\n",
    "                that.touch();\n",
    "            });\n",
    "\n",
    "            // This element displays the current\n",
    "            // value of the counter.\n",
    "            this.span = $('<span />')\n",
    "            .text('0')\n",
    "            .css({marginLeft: '10px',\n",
    "                  marginRight: '10px'});\n",
    "\n",
    "            // this.el represents the widget's DOM\n",
    "            // element. We add the minus button,\n",
    "            // the span element, and the plus button.\n",
    "            $(this.el)\n",
    "            .append(this.bm)\n",
    "            .append(this.span)\n",
    "            .append(this.bp);\n",
    "        },\n",
    "\n",
    "        value_changed: function() {\n",
    "            // Update the displayed number when the\n",
    "            // counter's value changes.\n",
    "            var x = this.model.get('value');\n",
    "            $($(this.el).children()[1]).text(x);\n",
    "        },\n",
    "    });\n",
    "\n",
    "    return {\n",
    "        CounterView : CounterView\n",
    "    };\n",
    "});"
   ]
  },
  {
   "cell_type": "code",
   "execution_count": 10,
   "id": "175541f8",
   "metadata": {},
   "outputs": [
    {
     "data": {
      "application/vnd.jupyter.widget-view+json": {
       "model_id": "c5e3198c49e64622b4153b13af41ae9c",
       "version_major": 2,
       "version_minor": 0
      },
      "text/plain": [
       "CounterWidget()"
      ]
     },
     "metadata": {},
     "output_type": "display_data"
    }
   ],
   "source": [
    "w = CounterWidget()\n",
    "w\n"
   ]
  },
  {
   "cell_type": "code",
   "execution_count": 11,
   "id": "d6b82d22",
   "metadata": {},
   "outputs": [],
   "source": [
    "def a_w(min=0, max=100):\n",
    "    @widgets.interact(x=(min,max))\n",
    "    def f(x=50):\n",
    "        print(x)"
   ]
  },
  {
   "cell_type": "code",
   "execution_count": 12,
   "id": "5ef4a3c5",
   "metadata": {},
   "outputs": [
    {
     "data": {
      "application/vnd.jupyter.widget-view+json": {
       "model_id": "2b5c04d622934fbf9a52c77aa5e648b6",
       "version_major": 2,
       "version_minor": 0
      },
      "text/plain": [
       "interactive(children=(IntSlider(value=50, description='x', max=60, min=20), Output()), _dom_classes=('widget-i…"
      ]
     },
     "metadata": {},
     "output_type": "display_data"
    }
   ],
   "source": [
    "a_w(20, 60)"
   ]
  },
  {
   "cell_type": "code",
   "execution_count": 13,
   "id": "6bf12c47",
   "metadata": {},
   "outputs": [],
   "source": [
    "def a_w(min=0, max=100):\n",
    "    @widgets.interact(x=(min,max))\n",
    "    def f(x=(min+max)//2):\n",
    "        print(x)"
   ]
  },
  {
   "cell_type": "code",
   "execution_count": 14,
   "id": "f40537f4",
   "metadata": {},
   "outputs": [
    {
     "data": {
      "application/vnd.jupyter.widget-view+json": {
       "model_id": "7f87f8363b3642f6b5c1e2d52d6d95c8",
       "version_major": 2,
       "version_minor": 0
      },
      "text/plain": [
       "interactive(children=(IntSlider(value=15, description='x', max=20, min=10), Output()), _dom_classes=('widget-i…"
      ]
     },
     "metadata": {},
     "output_type": "display_data"
    }
   ],
   "source": [
    "a_w(10, 20)"
   ]
  },
  {
   "cell_type": "code",
   "execution_count": null,
   "id": "c5b3b0a5",
   "metadata": {},
   "outputs": [],
   "source": []
  }
 ],
 "metadata": {
  "kernelspec": {
   "display_name": "Python 3 (ipykernel)",
   "language": "python",
   "name": "python3"
  },
  "language_info": {
   "codemirror_mode": {
    "name": "ipython",
    "version": 3
   },
   "file_extension": ".py",
   "mimetype": "text/x-python",
   "name": "python",
   "nbconvert_exporter": "python",
   "pygments_lexer": "ipython3",
   "version": "3.10.6"
  }
 },
 "nbformat": 4,
 "nbformat_minor": 5
}
